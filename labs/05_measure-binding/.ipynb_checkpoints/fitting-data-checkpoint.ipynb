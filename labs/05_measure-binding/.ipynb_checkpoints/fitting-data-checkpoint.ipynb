{
 "cells": [
  {
   "cell_type": "code",
   "execution_count": 5,
   "metadata": {},
   "outputs": [],
   "source": [
    "%matplotlib inline\n",
    "\n",
    "# import libraries\n",
    "import numpy as np\n",
    "import scipy.optimize as optimize\n",
    "import scipy.stats as stats\n",
    "import matplotlib.pylab as plt\n",
    "import pandas as pd\n",
    "import glob"
   ]
  },
  {
   "cell_type": "code",
   "execution_count": null,
   "metadata": {},
   "outputs": [],
   "source": [
    "def binding_curve(peptide,KD,delta_max):\n",
    "    \n",
    "    return delta_max*(1/(1 + KD/peptide))\n",
    "    \n",
    "def residuals(fit_param,obs_df):\n",
    "    #fit param: array of fit aprameters.\n",
    "    \n",
    "    # last entry is KD\n",
    "    KD = fit_param[-1]\n",
    "    \n",
    "    # First entries are 1-N delta_max\n",
    "    delta_max = fit_param[:-1]\n",
    "    \n",
    "    resid_counter = 0\n",
    "    residual = []\n",
    "    for resid in unique(obs_df.residue_number):\n",
    "        resid_df = obs_df[obs_df.residue_number == resid]\n",
    "        \n",
    "        resid_calc = binding_curve(resid_df.peptide,KD,delta_max[resid_counter])\n",
    "        \n",
    "        residual.append(resid_calc - resid_df.chemical_shift)\n",
    "        \n",
    "        resid_counter += 1\n",
    "        \n",
    "    return np.concatenate(residual)\n",
    "\n",
    "# fit guesses\n",
    "DELTA_MAX_GUESS = 1\n",
    "KD_GUESS = 10\n",
    "    \n",
    "# read data frame\n",
    "df = pd.read_csv(\"some_csv\")\n",
    "\n",
    "# Create array containing guesses\n",
    "num_residues = len(np.unique(df.residue_number))\n",
    "guesses = DELTA_MAX_GUESS*np.ones(num_residues + 1)\n",
    "guesses[-1] = KD_GUESS\n",
    "\n",
    "# Do fit\n",
    "fit_param, covariance, info_dict, message, error = optimize.leastsq(residuals,\n",
    "                                                                    x0=guesses,\n",
    "                                                                    args=(df,),\n",
    "                                                                    full_output=True)\n",
    "\n",
    "print(fit_param)"
   ]
  }
 ],
 "metadata": {
  "kernelspec": {
   "display_name": "Python 3",
   "language": "python",
   "name": "python3"
  },
  "language_info": {
   "codemirror_mode": {
    "name": "ipython",
    "version": 3
   },
   "file_extension": ".py",
   "mimetype": "text/x-python",
   "name": "python",
   "nbconvert_exporter": "python",
   "pygments_lexer": "ipython3",
   "version": "3.7.3"
  }
 },
 "nbformat": 4,
 "nbformat_minor": 2
}
