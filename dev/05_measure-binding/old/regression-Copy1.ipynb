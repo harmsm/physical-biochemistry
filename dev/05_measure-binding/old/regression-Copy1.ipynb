{
 "cells": [
  {
   "cell_type": "markdown",
   "metadata": {},
   "source": [
    "## Enzyme Kinetics Analysis\n",
    "\n",
    "\n",
    "You are studying enzyme activity of fumarase. Fumarase is a tetrameric enzyme that catalyzes the conversion of fumarate to malate. \n",
    "\n",
    "![fumarase](1fuo2.jpg) (https://commons.wikimedia.org/wiki/File:1fuo2.jpg)\n",
    "![reaction](Reaction1.png) (https://en.wikipedia.org/wiki/Fumarase)\n",
    "\n",
    "You are using the the non-natural substrate chlorofumarate: ![chlorofumarate](chlorofumarate.png)  This molecule absorbs strongly in the UV, but the reaction product does not, giving a spectroscopic signal you can observe to follow reaction progress.  "
   ]
  },
  {
   "cell_type": "markdown",
   "metadata": {},
   "source": [
    "## Tasks\n",
    "\n",
    "You have Product vs. Time data for both wildtype fumarase and a mutant form of the enzyme. These were done at a variety of substrate concentrations, given in micromolar in the data filenames (e.g. S=200 means $[S]_{0} = 200 \\mu M$. All experimental output can be found in the `data` directory. \n",
    "+ Create P vs. t plots for each experiment and extract $k$.\n",
    "+ Use this information to determine $V_{0}$ for each $[S]_{0}$.\n",
    "+ Construct $[S]_{0}$ vs. $V_{0}$ curves and extract Michaelis-Menten parameters.\n",
    "+ Determine the effect of the mutation on these values.\n",
    "+ Come up with a hypothesis for what the mutation might be doing to have the observed effect."
   ]
  },
  {
   "cell_type": "code",
   "execution_count": 40,
   "metadata": {},
   "outputs": [],
   "source": [
    "# import libraries\n",
    "import numpy as np\n",
    "import scipy.optimize as optimize\n",
    "import scipy.stats as stats\n",
    "import matplotlib.pylab as plt\n",
    "import pandas as pd\n",
    "import glob\n",
    "%matplotlib inline"
   ]
  },
  {
   "cell_type": "code",
   "execution_count": 73,
   "metadata": {},
   "outputs": [],
   "source": [
    "# Define functions for fitting models\n",
    "\n",
    "# ------- First order kinetics equations ----------\n",
    "\n",
    "def first_order(t,k,S0):\n",
    "    return S0*(1 - np.exp(-k*t))\n",
    "    \n",
    "def first_order_residuals(k,S0,t,obs):\n",
    "    return obs - first_order(t,k,S0)\n",
    "\n",
    "def fit_first_order(filename):\n",
    "\n",
    "    d = pd.read_csv(filename)\n",
    "    S0 = float(filename.split(\"=\")[1].split(\".\")[0])\n",
    "    \n",
    "    k_guess = 0.1\n",
    "    \n",
    "    fit_param, covariance, info_dict, message, error = optimize.leastsq(first_order_residuals,\n",
    "                                                                        x0=np.array((k_guess)),\n",
    "                                                                        args=(S0,d.t,d.P),full_output=True)\n",
    "    \n",
    "    print(\"S0 = \",S0)\n",
    "    print(\"k = \",fit_param[0])\n",
    "    #print(\"V = \",fit_param[0]*S0)\n",
    "    \n",
    "    plt.plot(d.t,d.P,\"o\")\n",
    "    plt.plot(d.t,first_order(d.t,fit_param[0],S0))\n",
    "    plt.title(filename)\n",
    "    plt.xlabel(\"t (s)\")\n",
    "    plt.ylabel(\"product (uM)\")\n",
    "    plt.show()\n",
    "    \n",
    "    #return fit_param[0]*S0\n",
    "\n",
    "# --------- Michaelis-Menten equation -----------------\n",
    "\n",
    "def mm(S,kcat,Km,Et=5):    \n",
    "    return kcat*Et*(S/(S + Km))\n",
    "\n",
    "def mm_residuals(param,S,obs):\n",
    "    \n",
    "    kcat = param[0]\n",
    "    Km = param[1]\n",
    "    return obs - mm(S,kcat,Km)\n",
    "    \n",
    "def fit_mm(S,V):\n",
    "    \n",
    "    kcat_guess = 10\n",
    "    Km_guess = 100\n",
    "    \n",
    "    S = np.array(S)\n",
    "    V = np.array(V)\n",
    "    \n",
    "    fit_param, covariance, info_dict, message, error = optimize.leastsq(mm_residuals,\n",
    "                                                                        x0=np.array((kcat_guess,Km_guess)),\n",
    "                                                                        args=(S,V),full_output=True)\n",
    "    print(\"kcat = \",fit_param[0])\n",
    "    print(\"Km = \",fit_param[1])\n",
    "    \n",
    "    fit_S = np.arange(S[0],S[-1])\n",
    "    \n",
    "    plt.plot(S,V,\"o\")\n",
    "    plt.plot(fit_S,mm(fit_S,fit_param[0],fit_param[1]))\n",
    "    plt.title(\"MM fit\")\n",
    "    plt.xlabel(\"[S]0 (uM)\")\n",
    "    plt.ylabel(\"V0 (uM/s)\")\n",
    "    plt.show()\n",
    "\n",
    "# ------------ Combined Hill and Michaelis-Menten euqations ---------------\n",
    "    \n",
    "def mm_hill(S,kcat,Km,n,Et=5):\n",
    "    return kcat*Et*(S**n/(S**n + Km**n))\n",
    "\n",
    "def mm_hill_residuals(param,S,obs):\n",
    "    \n",
    "    kcat = param[0]\n",
    "    Km = param[1]\n",
    "    n = param[2]\n",
    "    \n",
    "    return obs - mm_hill(S,kcat,Km,n)\n",
    "    \n",
    "def fit_mm_hill(S,V):\n",
    "    \n",
    "    kcat_guess = .03\n",
    "    Km_guess = 10.\n",
    "    n_guess = 3\n",
    "    \n",
    "    S = np.array(S)\n",
    "    V = np.array(V)\n",
    "    \n",
    "    fit_param, covariance, info_dict, message, error = optimize.leastsq(mm_hill_residuals,\n",
    "                                                                        x0=np.array((kcat_guess,Km_guess,n_guess)),\n",
    "                                                                        args=(S,V),full_output=True)\n",
    "    print(\"kcat = \",fit_param[0])\n",
    "    print(\"Km = \",fit_param[1])\n",
    "    print(\"n = \",fit_param[2])\n",
    "        \n",
    "    fit_S = np.arange(S[0],S[-1])\n",
    "    \n",
    "    plt.plot(S,V,\"o\")\n",
    "    plt.plot(fit_S,mm_hill(fit_S,fit_param[0],fit_param[1],fit_param[2]))\n",
    "    plt.title(\"MM fit\")\n",
    "    plt.xlabel(\"[S]0 (uM)\")\n",
    "    plt.ylabel(\"V0 (uM/s)\")\n",
    "    plt.show()   \n",
    "    "
   ]
  },
  {
   "cell_type": "code",
   "execution_count": 74,
   "metadata": {},
   "outputs": [
    {
     "name": "stdout",
     "output_type": "stream",
     "text": [
      "S0 =  100.0\n",
      "k =  0.23737373945008364\n"
     ]
    },
    {
     "data": {
      "image/png": "[encoded data removed]",
      "text/plain": [
       "<Figure size 432x288 with 1 Axes>"
      ]
     },
     "metadata": {},
     "output_type": "display_data"
    }
   ],
   "source": [
    "# Fit to wildtype P vs. t data at [S] = 100 uM\n",
    "V = fit_first_order(\"data/wt_cf_S=100.txt\")"
   ]
  },
  {
   "cell_type": "code",
   "execution_count": 75,
   "metadata": {},
   "outputs": [
    {
     "name": "stdout",
     "output_type": "stream",
     "text": [
      "kcat =  5.0570806810318425\n",
      "Km =  1.4543499975941445\n"
     ]
    },
    {
     "data": {
      "image/png": "[encoded data removed]",
      "text/plain": [
       "<Figure size 432x288 with 1 Axes>"
      ]
     },
     "metadata": {},
     "output_type": "display_data"
    }
   ],
   "source": [
    "# Dummy fit of made-up [S] vs. [V] data\n",
    "fit_mm([0,1,2,3,10],[0,10,15,17,22])"
   ]
  },
  {
   "cell_type": "code",
   "execution_count": 62,
   "metadata": {
    "scrolled": false
   },
   "outputs": [
    {
     "name": "stdout",
     "output_type": "stream",
     "text": [
      "kcat =  10.122185047329166\n",
      "Km =  116.8805331315918\n"
     ]
    },
    {
     "data": {
      "image/png": "[encoded data removed]",
      "text/plain": [
       "<Figure size 432x288 with 1 Axes>"
      ]
     },
     "metadata": {},
     "output_type": "display_data"
    },
    {
     "name": "stdout",
     "output_type": "stream",
     "text": [
      "kcat =  10.036394919990338\n",
      "Km =  111.01468340559632\n",
      "n =  3.7996309244607396\n"
     ]
    },
    {
     "name": "stderr",
     "output_type": "stream",
     "text": [
      "/Users/harmsm/miniconda3/lib/python3.6/site-packages/ipykernel_launcher.py:67: RuntimeWarning: invalid value encountered in true_divide\n"
     ]
    },
    {
     "data": {
      "image/png": "[encoded data removed]",
      "text/plain": [
       "<Figure size 432x288 with 1 Axes>"
      ]
     },
     "metadata": {},
     "output_type": "display_data"
    }
   ],
   "source": [
    "\n",
    "\n",
    "\n",
    "\n",
    "#for x in glob.glob(\"mut*.txt\"):\n",
    "#    V = fit_first_order(x)\n",
    "    \n",
    "# 3 1.34 0.002\n",
    "# 10 3.72 0.004\n",
    "# 30 10.79 0.27\n",
    "# 70       7.12\n",
    "# 100 23.02 20.53\n",
    "# 150       37.75\n",
    "# 300 36.54 49.43\n",
    "# 1000 45.30 49.94\n",
    "\n",
    "\n",
    "\n",
    "fit_mm([3,10,30,100,300,1000],[1.34,3.72,10.79,23.02,36.54,45.30])\n",
    "#fit_mm_hill([3,10,30,70,100,150,200,300,1000],[0.002,0.004,0.27,7.12,20.53,37.75,46.5,49.43,49.94])\n",
    "fit_mm_hill([3,10,30,70,100,150,300,1000],[0.002,0.004,0.27,7.12,20.53,37.75,49.43,49.94])"
   ]
  },
  {
   "cell_type": "markdown",
   "metadata": {},
   "source": [
    "For fumarase operating on chlorofumarate:\n",
    "\n",
    "$$k_{cat} = 20\\ s^{-1}$$\n",
    "$$K_{M} = 110\\ \\mu M$$"
   ]
  },
  {
   "cell_type": "code",
   "execution_count": 64,
   "metadata": {},
   "outputs": [
    {
     "data": {
      "image/png": "[encoded data removed]",
      "text/plain": [
       "<Figure size 432x288 with 1 Axes>"
      ]
     },
     "metadata": {},
     "output_type": "display_data"
    }
   ],
   "source": [
    "S = np.array([0,3,10,30,70,100,150,200,300,1000])\n",
    "V = mm(S,10,110,5)\n",
    "Vhill = mm_hill(S,10,110,4)\n",
    "\n",
    "plt.plot(S,V,\"o\")\n",
    "plt.plot(S,Vhill,\"o\")\n",
    "plt.show()"
   ]
  },
  {
   "cell_type": "code",
   "execution_count": 66,
   "metadata": {},
   "outputs": [
    {
     "name": "stdout",
     "output_type": "stream",
     "text": [
      "0 nan 0.0\n",
      "3 [0.44406867] 1.3274336283185841\n",
      "10 [0.420769] 4.166666666666666\n",
      "30 [0.36395577] 10.714285714285714\n",
      "70 [0.27884818] 19.444444444444446\n",
      "100 [0.23680629] 23.809523809523807\n",
      "150 [0.19045564] 28.846153846153843\n",
      "200 [0.15975465] 32.25806451612903\n",
      "300 [0.12230598] 36.58536585365854\n",
      "1000 [0.04468861] 45.04504504504504\n"
     ]
    },
    {
     "data": {
      "image/png": "[encoded data removed]",
      "text/plain": [
       "<Figure size 432x288 with 1 Axes>"
      ]
     },
     "metadata": {},
     "output_type": "display_data"
    }
   ],
   "source": [
    "t = np.arange(0,200,2)\n",
    "\n",
    "for i in range(len(S)):\n",
    "    \n",
    "    v = V[i]\n",
    "    \n",
    "    if S[i] == 0.0:\n",
    "        P = np.zeros(len(t),dtype=np.float)\n",
    "        k = np.nan\n",
    "    else:\n",
    "        k = v/S[i] + np.random.normal(0,0.01*v/S[i],1)\n",
    "        P = first_order(t,k,S[i]) + np.random.normal(0,0.7,len(t))\n",
    "    \n",
    "    print(S[i],k,v)\n",
    "    \n",
    "    P[P < 0] = 0.0\n",
    "    \n",
    "    f = open(\"wt_cf_S={}.txt\".format(S[i]),\"w\")\n",
    "    f.write(\"t,P\\n\")\n",
    "    for j in range(len(t)):\n",
    "        f.write(\"{},{}\\n\".format(t[j],P[j]))\n",
    "    f.close()\n",
    "    \n",
    "    plt.plot(t,P,\"o\")\n",
    "plt.show()\n",
    "    "
   ]
  },
  {
   "cell_type": "code",
   "execution_count": null,
   "metadata": {},
   "outputs": [],
   "source": []
  }
 ],
 "metadata": {
  "kernelspec": {
   "display_name": "Python 3",
   "language": "python",
   "name": "python3"
  },
  "language_info": {
   "codemirror_mode": {
    "name": "ipython",
    "version": 3
   },
   "file_extension": ".py",
   "mimetype": "text/x-python",
   "name": "python",
   "nbconvert_exporter": "python",
   "pygments_lexer": "ipython3",
   "version": "3.7.3"
  }
 },
 "nbformat": 4,
 "nbformat_minor": 1
}
