{
 "cells": [
  {
   "cell_type": "code",
   "execution_count": 1,
   "metadata": {},
   "outputs": [],
   "source": [
    "import pdbtools \n",
    "\n",
    "%matplotlib inline\n",
    "from matplotlib import pyplot as plt\n",
    "from matplotlib.colors import LogNorm\n",
    "import numpy as np\n",
    "import pandas as pd\n",
    "\n",
    "import glob, os"
   ]
  },
  {
   "cell_type": "code",
   "execution_count": 2,
   "metadata": {
    "scrolled": false
   },
   "outputs": [],
   "source": [
    "pdb_list = []\n",
    "for g in glob.glob(\"tor/*.tor\"):\n",
    "    pdb = g[:4]\n",
    "    chain = g[4]\n",
    "    pdb_list.append((pdb,chain)) \n",
    "    \n",
    "pdb_set = list(set(pdb_list))\n",
    "#pdb_set = [p for p in pdb_set if not os.path.isfile(p)]\n",
    "\n",
    "#pdbtools.download.pdbDownload(pdb_set)"
   ]
  },
  {
   "cell_type": "code",
   "execution_count": 3,
   "metadata": {
    "scrolled": true
   },
   "outputs": [],
   "source": [
    "\n",
    "def load_torsions(pdb_file,filter_chain):\n",
    "    \n",
    "    torsions = pdbtools.torsion.pdbTorsion(open(pdb_file).readlines())\n",
    "\n",
    "    phi = []\n",
    "    psi = []\n",
    "    residue = []\n",
    "    chain = []\n",
    "    aa = []\n",
    "    for i in range(len(torsions[0])):\n",
    "\n",
    "\n",
    "        col = torsions[1][i].split()\n",
    "        if len(col) < 3:\n",
    "            continue\n",
    "        aa.append(col[0])\n",
    "        chain.append(col[1])\n",
    "        residue.append(int(col[2]))\n",
    "        \n",
    "        phi.append(torsions[0][i][0])\n",
    "        psi.append(torsions[0][i][1])\n",
    "\n",
    "    out = pd.DataFrame({\"chain\":chain,\"residue\":residue,\"aa\":aa,\"phi\":phi,\"psi\":psi})\n",
    "    if filter_chain != \"_\":\n",
    "        out = out[out.chain == filter_chain]\n",
    "\n",
    "    return out\n",
    "    \n",
    "\n",
    "df = None\n",
    "for p in pdb_set:\n",
    "    if os.path.isfile(\"{}.pdb\".format(p[0])):\n",
    "        new_df = load_torsions(\"{}.pdb\".format(p[0]),filter_chain=p[1])\n",
    "        if df is None:\n",
    "            df = new_df.copy()\n",
    "        else:\n",
    "            tmp = df.append(new_df)\n",
    "            df = tmp.reset_index(drop=True)"
   ]
  },
  {
   "cell_type": "code",
   "execution_count": 6,
   "metadata": {},
   "outputs": [],
   "source": [
    "df.to_csv(\"all-torsion.csv\")"
   ]
  },
  {
   "cell_type": "code",
   "execution_count": 6,
   "metadata": {},
   "outputs": [
    {
     "ename": "AttributeError",
     "evalue": "'NoneType' object has no attribute 'head'",
     "output_type": "error",
     "traceback": [
      "\u001b[0;31m---------------------------------------------------------------------------\u001b[0m",
      "\u001b[0;31mAttributeError\u001b[0m                            Traceback (most recent call last)",
      "\u001b[0;32m<ipython-input-6-c42a15b2c7cf>\u001b[0m in \u001b[0;36m<module>\u001b[0;34m\u001b[0m\n\u001b[0;32m----> 1\u001b[0;31m \u001b[0mdf\u001b[0m\u001b[0;34m.\u001b[0m\u001b[0mhead\u001b[0m\u001b[0;34m(\u001b[0m\u001b[0;34m)\u001b[0m\u001b[0;34m\u001b[0m\u001b[0;34m\u001b[0m\u001b[0m\n\u001b[0m",
      "\u001b[0;31mAttributeError\u001b[0m: 'NoneType' object has no attribute 'head'"
     ]
    }
   ],
   "source": [
    "df.head()"
   ]
  },
  {
   "cell_type": "code",
   "execution_count": 64,
   "metadata": {},
   "outputs": [],
   "source": [
    "tor_set = glob.glob(\"tor/*.tor\")\n",
    "\n",
    "def load_tor_file(tor_file):\n",
    "    \n",
    "    chain = []\n",
    "    residue = []\n",
    "    aa = []\n",
    "    phi = []\n",
    "    psi = []\n",
    "    with open(tor_file) as f:\n",
    "        for i, line in enumerate(f.readlines()):\n",
    "\n",
    "            if i == 1:\n",
    "                c = line[0:2].strip()\n",
    "            if i < 2:\n",
    "                continue\n",
    "                \n",
    "            if line[99] != \"C\":\n",
    "                continue\n",
    "                \n",
    "                \n",
    "            r = int(line[:8])\n",
    "            a = line[11:14]\n",
    "            ph = float(line[15:25])\n",
    "            ps = float(line[26:36])\n",
    "            \n",
    "\n",
    "            chain.append(c)\n",
    "            residue.append(r)\n",
    "            aa.append(a)\n",
    "            phi.append(ph)\n",
    "            psi.append(ps)\n",
    "            \n",
    "    out = pd.DataFrame({\"chain\":chain,\"residue\":residue,\"aa\":aa,\"phi\":phi,\"psi\":psi})\n",
    "    return out\n",
    "        \n",
    "\n",
    "coil_conly_df = None\n",
    "for t in tor_set:\n",
    "    new_df = load_tor_file(t) \n",
    "    if coil_conly_df is None:\n",
    "        coil_conly_df = new_df.copy()\n",
    "    else:\n",
    "        tmp = coil_conly_df.append(new_df)\n",
    "        coil_conly_df = tmp.reset_index(drop=True)\n",
    "\n",
    "\n",
    "    "
   ]
  },
  {
   "cell_type": "code",
   "execution_count": 65,
   "metadata": {},
   "outputs": [],
   "source": [
    "coil_conly_df.to_csv(\"coil-conly-torsion.csv\")"
   ]
  },
  {
   "cell_type": "code",
   "execution_count": 11,
   "metadata": {},
   "outputs": [],
   "source": [
    "#coil_df.to_csv(\"coil-torsion.csv\")"
   ]
  },
  {
   "cell_type": "code",
   "execution_count": 12,
   "metadata": {},
   "outputs": [
    {
     "data": {
      "text/html": [
       "<div>\n",
       "<style scoped>\n",
       "    .dataframe tbody tr th:only-of-type {\n",
       "        vertical-align: middle;\n",
       "    }\n",
       "\n",
       "    .dataframe tbody tr th {\n",
       "        vertical-align: top;\n",
       "    }\n",
       "\n",
       "    .dataframe thead th {\n",
       "        text-align: right;\n",
       "    }\n",
       "</style>\n",
       "<table border=\"1\" class=\"dataframe\">\n",
       "  <thead>\n",
       "    <tr style=\"text-align: right;\">\n",
       "      <th></th>\n",
       "      <th>chain</th>\n",
       "      <th>residue</th>\n",
       "      <th>aa</th>\n",
       "      <th>phi</th>\n",
       "      <th>psi</th>\n",
       "    </tr>\n",
       "  </thead>\n",
       "  <tbody>\n",
       "    <tr>\n",
       "      <td>0</td>\n",
       "      <td>S</td>\n",
       "      <td>87</td>\n",
       "      <td>ASN</td>\n",
       "      <td>-102.3264</td>\n",
       "      <td>141.8750</td>\n",
       "    </tr>\n",
       "    <tr>\n",
       "      <td>1</td>\n",
       "      <td>S</td>\n",
       "      <td>88</td>\n",
       "      <td>LYS</td>\n",
       "      <td>-104.5779</td>\n",
       "      <td>146.9348</td>\n",
       "    </tr>\n",
       "    <tr>\n",
       "      <td>2</td>\n",
       "      <td>S</td>\n",
       "      <td>89</td>\n",
       "      <td>LEU</td>\n",
       "      <td>-48.6333</td>\n",
       "      <td>-32.0852</td>\n",
       "    </tr>\n",
       "    <tr>\n",
       "      <td>3</td>\n",
       "      <td>S</td>\n",
       "      <td>90</td>\n",
       "      <td>ASN</td>\n",
       "      <td>-72.9086</td>\n",
       "      <td>-4.2009</td>\n",
       "    </tr>\n",
       "    <tr>\n",
       "      <td>4</td>\n",
       "      <td>S</td>\n",
       "      <td>91</td>\n",
       "      <td>GLY</td>\n",
       "      <td>90.7920</td>\n",
       "      <td>20.3254</td>\n",
       "    </tr>\n",
       "    <tr>\n",
       "      <td>...</td>\n",
       "      <td>...</td>\n",
       "      <td>...</td>\n",
       "      <td>...</td>\n",
       "      <td>...</td>\n",
       "      <td>...</td>\n",
       "    </tr>\n",
       "    <tr>\n",
       "      <td>151923</td>\n",
       "      <td>B</td>\n",
       "      <td>121</td>\n",
       "      <td>GLU</td>\n",
       "      <td>-71.6225</td>\n",
       "      <td>-17.6879</td>\n",
       "    </tr>\n",
       "    <tr>\n",
       "      <td>151924</td>\n",
       "      <td>B</td>\n",
       "      <td>122</td>\n",
       "      <td>PHE</td>\n",
       "      <td>-85.2600</td>\n",
       "      <td>69.5438</td>\n",
       "    </tr>\n",
       "    <tr>\n",
       "      <td>151925</td>\n",
       "      <td>B</td>\n",
       "      <td>123</td>\n",
       "      <td>THR</td>\n",
       "      <td>-74.7191</td>\n",
       "      <td>163.5879</td>\n",
       "    </tr>\n",
       "    <tr>\n",
       "      <td>151926</td>\n",
       "      <td>B</td>\n",
       "      <td>124</td>\n",
       "      <td>PRO</td>\n",
       "      <td>-45.1896</td>\n",
       "      <td>-51.1442</td>\n",
       "    </tr>\n",
       "    <tr>\n",
       "      <td>151927</td>\n",
       "      <td>B</td>\n",
       "      <td>125</td>\n",
       "      <td>PRO</td>\n",
       "      <td>-62.3873</td>\n",
       "      <td>-34.4248</td>\n",
       "    </tr>\n",
       "  </tbody>\n",
       "</table>\n",
       "<p>151928 rows × 5 columns</p>\n",
       "</div>"
      ],
      "text/plain": [
       "       chain  residue   aa       phi       psi\n",
       "0          S       87  ASN -102.3264  141.8750\n",
       "1          S       88  LYS -104.5779  146.9348\n",
       "2          S       89  LEU  -48.6333  -32.0852\n",
       "3          S       90  ASN  -72.9086   -4.2009\n",
       "4          S       91  GLY   90.7920   20.3254\n",
       "...      ...      ...  ...       ...       ...\n",
       "151923     B      121  GLU  -71.6225  -17.6879\n",
       "151924     B      122  PHE  -85.2600   69.5438\n",
       "151925     B      123  THR  -74.7191  163.5879\n",
       "151926     B      124  PRO  -45.1896  -51.1442\n",
       "151927     B      125  PRO  -62.3873  -34.4248\n",
       "\n",
       "[151928 rows x 5 columns]"
      ]
     },
     "execution_count": 12,
     "metadata": {},
     "output_type": "execute_result"
    }
   ],
   "source": [
    "all_df = pd.read_csv(\"all-torsion.csv\")"
   ]
  },
  {
   "cell_type": "code",
   "execution_count": 10,
   "metadata": {},
   "outputs": [],
   "source": [
    "coil_df = pd.read_csv(\"coil-torsion.csv\")"
   ]
  },
  {
   "cell_type": "code",
   "execution_count": 18,
   "metadata": {},
   "outputs": [
    {
     "data": {
      "image/png": "[encoded data removed]",
      "text/plain": [
       "<Figure size 432x288 with 1 Axes>"
      ]
     },
     "metadata": {
      "needs_background": "light"
     },
     "output_type": "display_data"
    }
   ],
   "source": [
    "def create_hist(input_df,num_bins=60):\n",
    "\n",
    "    h = plt.hist2d(input_df.phi,input_df.psi,bins=num_bins)\n",
    "    plt.show()\n",
    "\n",
    "    counts = h[0]\n",
    "    phi = h[1]\n",
    "    psi = h[2]\n",
    "    freq = counts/np.sum(counts)\n",
    "\n",
    "    out = {\"phi\":[],\"psi\":[],\"prob\":[]}\n",
    "    for i in range(len(phi)-1):\n",
    "        for j in range(len(psi)-1):\n",
    "            out[\"phi\"].append((phi[i] + phi[i+1])/2)\n",
    "            out[\"psi\"].append((psi[j] + psi[j+1])/2)\n",
    "            out[\"prob\"].append(freq[i,j])\n",
    "\n",
    "    out_freq = pd.DataFrame(out)\n",
    "    out_freq.prob[out_freq.prob == 0] = 1e-12\n",
    "    \n",
    "    return out_freq\n",
    "\n",
    "#all_freq = create_hist(all_df)\n",
    "coil_freq = create_hist(coil_df)\n",
    "    "
   ]
  },
  {
   "cell_type": "code",
   "execution_count": 21,
   "metadata": {},
   "outputs": [],
   "source": [
    "coil_freq.to_csv(\"coil.csv\")"
   ]
  },
  {
   "cell_type": "code",
   "execution_count": 1,
   "metadata": {
    "scrolled": true
   },
   "outputs": [
    {
     "ename": "NameError",
     "evalue": "name 'np' is not defined",
     "output_type": "error",
     "traceback": [
      "\u001b[0;31m---------------------------------------------------------------------------\u001b[0m",
      "\u001b[0;31mNameError\u001b[0m                                 Traceback (most recent call last)",
      "\u001b[0;32m<ipython-input-1-71091c9e16b4>\u001b[0m in \u001b[0;36m<module>\u001b[0;34m\u001b[0m\n\u001b[0;32m----> 1\u001b[0;31m \u001b[0mS_all\u001b[0m \u001b[0;34m=\u001b[0m \u001b[0mnp\u001b[0m\u001b[0;34m.\u001b[0m\u001b[0msum\u001b[0m\u001b[0;34m(\u001b[0m\u001b[0mall_freq\u001b[0m\u001b[0;34m.\u001b[0m\u001b[0mprob\u001b[0m\u001b[0;34m*\u001b[0m\u001b[0mnp\u001b[0m\u001b[0;34m.\u001b[0m\u001b[0mlog\u001b[0m\u001b[0;34m(\u001b[0m\u001b[0mall_freq\u001b[0m\u001b[0;34m.\u001b[0m\u001b[0mprob\u001b[0m\u001b[0;34m)\u001b[0m\u001b[0;34m)\u001b[0m\u001b[0;34m*\u001b[0m\u001b[0;36m0.008314\u001b[0m\u001b[0;34m\u001b[0m\u001b[0;34m\u001b[0m\u001b[0m\n\u001b[0m",
      "\u001b[0;31mNameError\u001b[0m: name 'np' is not defined"
     ]
    }
   ],
   "source": [
    "S_all = np.sum(all_freq.prob*np.log(all_freq.prob))*0.008314"
   ]
  },
  {
   "cell_type": "code",
   "execution_count": 138,
   "metadata": {},
   "outputs": [],
   "source": [
    "S_coil = np.sum(coil_freq.prob*np.log(coil_freq.prob))*0.008314*298*200"
   ]
  },
  {
   "cell_type": "code",
   "execution_count": 139,
   "metadata": {},
   "outputs": [
    {
     "data": {
      "text/plain": [
       "222.43708133754217"
      ]
     },
     "execution_count": 139,
     "metadata": {},
     "output_type": "execute_result"
    }
   ],
   "source": [
    "S_all - S_coil"
   ]
  },
  {
   "cell_type": "code",
   "execution_count": 260,
   "metadata": {},
   "outputs": [],
   "source": [
    "all_freq.to_csv(\"native.csv\")\n",
    "coil_freq.to_csv(\"coil-conly-torsion.csv\")"
   ]
  },
  {
   "cell_type": "code",
   "execution_count": 262,
   "metadata": {},
   "outputs": [
    {
     "data": {
      "image/png": "[encoded data removed]",
      "text/plain": [
       "<Figure size 360x360 with 1 Axes>"
      ]
     },
     "metadata": {
      "needs_background": "light"
     },
     "output_type": "display_data"
    }
   ],
   "source": [
    "index = 0\n",
    "out_matrix = np.zeros((60,60),dtype=np.float)\n",
    "for i in range(60):\n",
    "    for j in range(60):\n",
    "        out_matrix[j,i] = np.log(coil_freq.prob[index]) #np.mean((-3,-13))\n",
    "        index += 1\n",
    "        \n",
    "\n",
    "fig, ax = plt.subplots(figsize=(5,5))\n",
    "ax.imshow(out_matrix,origin=\"lower\",vmax=-3,vmin=-13,extent=(-180,180,-180,180),cmap=\"inferno\")\n",
    "#ax.imshow(out_matrix,origin=\"lower\",vmax=-3,vmin=-13,extent=(-180,180,-180,180),cmap=\"inferno\")\n",
    "ax.set_aspect('equal', 'box')\n",
    "ax.set_xlabel(\"$\\Phi$\")\n",
    "ax.set_ylabel(\"$\\Psi$\")\n",
    "        \n",
    "plt.savefig(\"coil.png\")"
   ]
  },
  {
   "cell_type": "code",
   "execution_count": null,
   "metadata": {},
   "outputs": [],
   "source": []
  }
 ],
 "metadata": {
  "kernelspec": {
   "display_name": "Python 3",
   "language": "python",
   "name": "python3"
  },
  "language_info": {
   "codemirror_mode": {
    "name": "ipython",
    "version": 3
   },
   "file_extension": ".py",
   "mimetype": "text/x-python",
   "name": "python",
   "nbconvert_exporter": "python",
   "pygments_lexer": "ipython3",
   "version": "3.7.3"
  }
 },
 "nbformat": 4,
 "nbformat_minor": 2
}
